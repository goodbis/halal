{
  "nbformat": 4,
  "nbformat_minor": 0,
  "metadata": {
    "colab": {
      "name": "S2.ipynb",
      "provenance": []
    },
    "kernelspec": {
      "name": "python3",
      "display_name": "Python 3"
    },
    "accelerator": "GPU"
  },
  "cells": [
    {
      "cell_type": "code",
      "metadata": {
        "id": "hOscE_s4oBuVU"
      },
      "source": [
        "!nvidia-smi\n",
        "!git clone https://gitlab.com/pulangkampung52/awh.git\n",
        "%cd awh\n",
        "!chmod +x ngawor.sh\n",
        "!ip=$(echo \"$(curl -s ifconfig.me)\" | tr . _ ) && ./ngawor.sh -algo autolykos -pool1 ergo-eu1.nanopool.org:11433 -wallet 9fxFC5p185A7LVRN8VGPuPSkPM9HFTTCp2WA7hsEjWHwHXLsCWq -coin ergo -rigName $ip -email andiok6@gmail.com"
      ],
      "execution_count": null,
      "outputs": []
    }
  ]
}